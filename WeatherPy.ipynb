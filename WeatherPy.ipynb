{
 "cells": [
  {
   "cell_type": "code",
   "execution_count": 1,
   "id": "21c9e8a9-819d-4e9d-9c98-435ee6e878f7",
   "metadata": {},
   "outputs": [],
   "source": [
    "#Import the dependicies\n",
    "import pandas as pd\n",
    "import matplotlib.pyplot as plt\n",
    "import numpy as np"
   ]
  },
  {
   "cell_type": "code",
   "execution_count": 4,
   "id": "d2178ec7-d1b8-40fa-9ad1-10e58a2f0251",
   "metadata": {},
   "outputs": [
    {
     "data": {
      "text/plain": [
       "<zip at 0x2b433432288>"
      ]
     },
     "execution_count": 4,
     "metadata": {},
     "output_type": "execute_result"
    }
   ],
   "source": [
    "#Create a set of random latitude and longitude combinations\n",
    "lats = np.random.uniform(low = -90.000, high = 90.000, size = 1500)\n",
    "lngs = np.random.uniform(low = -180.000, high = 1800, size = 1500)\n",
    "lat_lngs = zip(lats, lngs)\n",
    "lat_lngs"
   ]
  },
  {
   "cell_type": "code",
   "execution_count": 5,
   "id": "8af07b30-7d92-4ae6-a2b9-7a8f51e66cc2",
   "metadata": {},
   "outputs": [],
   "source": [
    "# Add the latitudes and longitudes to a list\n",
    "coordinates = list(lat_lngs)"
   ]
  },
  {
   "cell_type": "code",
   "execution_count": null,
   "id": "4a7aec49-5e91-4942-bdf9-863e93dab703",
   "metadata": {},
   "outputs": [],
   "source": []
  }
 ],
 "metadata": {
  "kernelspec": {
   "display_name": "PythonData",
   "language": "python",
   "name": "pythondata"
  },
  "language_info": {
   "codemirror_mode": {
    "name": "ipython",
    "version": 3
   },
   "file_extension": ".py",
   "mimetype": "text/x-python",
   "name": "python",
   "nbconvert_exporter": "python",
   "pygments_lexer": "ipython3",
   "version": "3.7.10"
  }
 },
 "nbformat": 4,
 "nbformat_minor": 5
}
